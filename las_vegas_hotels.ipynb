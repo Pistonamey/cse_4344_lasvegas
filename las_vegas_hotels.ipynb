{
 "cells": [
  {
   "cell_type": "code",
   "execution_count": 25,
   "id": "4e54c4be",
   "metadata": {},
   "outputs": [],
   "source": [
    "import pandas as pd\n",
    "import numpy as np\n",
    "import matplotlib.pyplot as plt\n",
    "from sklearn.model_selection import train_test_split\n",
    "from sklearn.linear_model import LogisticRegression\n",
    "from sklearn.metrics import classification_report, confusion_matrix\n",
    "from scipy.stats import ttest_ind, f_oneway\n",
    "import re\n",
    "import seaborn as sns"
   ]
  },
  {
   "cell_type": "code",
   "execution_count": 26,
   "id": "ffe3b5a0-f8d7-475f-a12b-142b23d551da",
   "metadata": {},
   "outputs": [
    {
     "name": "stdout",
     "output_type": "stream",
     "text": [
      "<class 'pandas.core.frame.DataFrame'>\n",
      "RangeIndex: 504 entries, 0 to 503\n",
      "Data columns (total 20 columns):\n",
      " #   Column             Non-Null Count  Dtype \n",
      "---  ------             --------------  ----- \n",
      " 0   User country       504 non-null    object\n",
      " 1   Nr. reviews        504 non-null    int64 \n",
      " 2   Nr. hotel reviews  504 non-null    int64 \n",
      " 3   Helpful votes      504 non-null    int64 \n",
      " 4   Score              504 non-null    int64 \n",
      " 5   Period of stay     504 non-null    object\n",
      " 6   Traveler type      504 non-null    object\n",
      " 7   Pool               504 non-null    object\n",
      " 8   Gym                504 non-null    object\n",
      " 9   Tennis court       504 non-null    object\n",
      " 10  Spa                504 non-null    object\n",
      " 11  Casino             504 non-null    object\n",
      " 12  Free internet      504 non-null    object\n",
      " 13  Hotel name         504 non-null    object\n",
      " 14  Hotel stars        504 non-null    object\n",
      " 15  Nr. rooms          504 non-null    int64 \n",
      " 16  User continent     504 non-null    object\n",
      " 17  Member years       504 non-null    int64 \n",
      " 18  Review month       504 non-null    object\n",
      " 19  Review weekday     504 non-null    object\n",
      "dtypes: int64(6), object(14)\n",
      "memory usage: 78.9+ KB\n",
      "None\n",
      "       Nr. reviews  Nr. hotel reviews  Helpful votes       Score    Nr. rooms  \\\n",
      "count   504.000000         504.000000     504.000000  504.000000   504.000000   \n",
      "mean     48.130952          16.023810      31.751984    4.123016  2196.380952   \n",
      "std      74.996426          23.957953      48.520783    1.007302  1285.476807   \n",
      "min       1.000000           0.000000       0.000000    1.000000   188.000000   \n",
      "25%      12.000000           5.000000       8.000000    4.000000   826.000000   \n",
      "50%      23.500000           9.000000      16.000000    4.000000  2700.000000   \n",
      "75%      54.250000          18.000000      35.000000    5.000000  3025.000000   \n",
      "max     775.000000         263.000000     365.000000    5.000000  4027.000000   \n",
      "\n",
      "       Member years  \n",
      "count    504.000000  \n",
      "mean       0.767857  \n",
      "std       80.692897  \n",
      "min    -1806.000000  \n",
      "25%        2.000000  \n",
      "50%        4.000000  \n",
      "75%        6.000000  \n",
      "max       13.000000  \n",
      "  User country  Nr. reviews  Nr. hotel reviews  Helpful votes  Score  \\\n",
      "0          USA           11                  4             13      5   \n",
      "1          USA          119                 21             75      3   \n",
      "2          USA           36                  9             25      5   \n",
      "3           UK           14                  7             14      4   \n",
      "4       Canada            5                  5              2      4   \n",
      "\n",
      "  Period of stay Traveler type Pool  Gym Tennis court Spa Casino  \\\n",
      "0        Dec-Feb       Friends   NO  YES           NO  NO    YES   \n",
      "1        Dec-Feb      Business   NO  YES           NO  NO    YES   \n",
      "2        Mar-May      Families   NO  YES           NO  NO    YES   \n",
      "3        Mar-May       Friends   NO  YES           NO  NO    YES   \n",
      "4        Mar-May          Solo   NO  YES           NO  NO    YES   \n",
      "\n",
      "  Free internet                              Hotel name Hotel stars  \\\n",
      "0           YES  Circus Circus Hotel & Casino Las Vegas           3   \n",
      "1           YES  Circus Circus Hotel & Casino Las Vegas           3   \n",
      "2           YES  Circus Circus Hotel & Casino Las Vegas           3   \n",
      "3           YES  Circus Circus Hotel & Casino Las Vegas           3   \n",
      "4           YES  Circus Circus Hotel & Casino Las Vegas           3   \n",
      "\n",
      "   Nr. rooms User continent  Member years Review month Review weekday  \n",
      "0       3773  North America             9      January       Thursday  \n",
      "1       3773  North America             3      January         Friday  \n",
      "2       3773  North America             2     February       Saturday  \n",
      "3       3773         Europe             6     February         Friday  \n",
      "4       3773  North America             7        March        Tuesday  \n"
     ]
    }
   ],
   "source": [
    "# Function to load data\n",
    "def load_data(filepath):\n",
    "    return pd.read_csv(filepath,delimiter=';')\n",
    "\n",
    "# Function to inspect the data\n",
    "def inspect_data(df):\n",
    "    print(df.info())\n",
    "    print(df.describe())\n",
    "    print(df.head())\n",
    "    \n",
    "df = load_data('LasVegasTripAdvisorReviews-Dataset.csv')\n",
    "inspect_data(df)"
   ]
  },
  {
   "cell_type": "code",
   "execution_count": 27,
   "id": "50889b75-2e25-4c79-80f2-a80c6dcdf045",
   "metadata": {},
   "outputs": [],
   "source": [
    "# Map 'YES'/'NO' in amenities to 1/0\n",
    "amenities = ['Pool', 'Gym', 'Tennis court', 'Spa', 'Casino', 'Free internet']  # Add or remove based on actual columns\n",
    "for amenity in amenities:\n",
    "    if amenity in df.columns:\n",
    "        df[amenity] = df[amenity].map({'YES': 1, 'NO': 0}).fillna(0).astype(int)\n",
    "\n",
    "# Handle missing values in 'Score'\n",
    "df['Score'] = df['Score'].fillna(df['Score'].mean()).astype(float)\n"
   ]
  },
  {
   "cell_type": "code",
   "execution_count": 28,
   "id": "c7b6423e-9a2b-4a24-9fb4-52299586bd38",
   "metadata": {},
   "outputs": [],
   "source": [
    "df.rename(columns={'Hotel stars': 'Hotel_stars'}, inplace=True)\n",
    "\n",
    "# Ensure 'Hotel_stars' is treated as a categorical variable\n",
    "df['Hotel_stars'] = df['Hotel_stars'].astype(str)\n"
   ]
  },
  {
   "cell_type": "code",
   "execution_count": 29,
   "id": "4822f1ff-d784-491d-847b-eb6dc634e2e8",
   "metadata": {},
   "outputs": [
    {
     "name": "stdout",
     "output_type": "stream",
     "text": [
      "\n",
      "T-test results:\n",
      "T-statistic: 4.185402582179881\n",
      "P-value: 0.0003103724083101627\n"
     ]
    }
   ],
   "source": [
    "# T-test: comparing guest satisfaction between hotels with and without pools\n",
    "group_with_pool = df[df['Pool'] == 1]['Score']\n",
    "group_without_pool = df[df['Pool'] == 0]['Score']\n",
    "t_stat, p_value = ttest_ind(group_with_pool, group_without_pool, equal_var=False)\n",
    "print(\"\\nT-test results:\")\n",
    "print(\"T-statistic:\", t_stat)\n",
    "print(\"P-value:\", p_value)"
   ]
  },
  {
   "cell_type": "code",
   "execution_count": 30,
   "id": "1e65fad6-dfb2-4f13-89c5-c6805c3a97c2",
   "metadata": {},
   "outputs": [
    {
     "name": "stdout",
     "output_type": "stream",
     "text": [
      "\n",
      "ANOVA results:\n",
      "                    sum_sq     df          F        PR(>F)\n",
      "C(Hotel_stars)   38.191071    4.0  10.090043  7.347030e-08\n",
      "Residual        472.181944  499.0        NaN           NaN\n"
     ]
    }
   ],
   "source": [
    "model = ols('Score ~ C(Hotel_stars)', data=df).fit()\n",
    "anova_results = sm.stats.anova_lm(model, typ=2)\n",
    "print(\"\\nANOVA results:\")\n",
    "print(anova_results)"
   ]
  },
  {
   "cell_type": "code",
   "execution_count": 31,
   "id": "de9aff00-c835-4452-8f19-b8657fee1249",
   "metadata": {},
   "outputs": [
    {
     "data": {
      "image/png": "[encoded data removed]",
      "text/plain": [
       "<Figure size 800x500 with 1 Axes>"
      ]
     },
     "metadata": {},
     "output_type": "display_data"
    }
   ],
   "source": [
    "plt.figure(figsize=(8, 5))\n",
    "sns.boxplot(x='Pool', y='Score', data=df)\n",
    "plt.title('Guest Satisfaction by Pool Availability')\n",
    "plt.show()"
   ]
  },
  {
   "cell_type": "code",
   "execution_count": 32,
   "id": "1b030550-9953-478d-b007-ef7c668ff2a1",
   "metadata": {},
   "outputs": [
    {
     "data": {
      "image/png": "[encoded data removed]",
      "text/plain": [
       "<Figure size 800x500 with 1 Axes>"
      ]
     },
     "metadata": {},
     "output_type": "display_data"
    }
   ],
   "source": [
    "# Visualization for ANOVA results\n",
    "plt.figure(figsize=(8, 5))\n",
    "sns.boxplot(x='Hotel_stars', y='Score', data=df)\n",
    "plt.title('Guest Satisfaction by Hotel Star Rating')\n",
    "plt.show()"
   ]
  },
  {
   "cell_type": "code",
   "execution_count": null,
   "id": "5090e6f7-f0f1-4417-883c-b1bd35fddc27",
   "metadata": {},
   "outputs": [],
   "source": []
  }
 ],
 "metadata": {
  "kernelspec": {
   "display_name": "Python 3 (ipykernel)",
   "language": "python",
   "name": "python3"
  },
  "language_info": {
   "codemirror_mode": {
    "name": "ipython",
    "version": 3
   },
   "file_extension": ".py",
   "mimetype": "text/x-python",
   "name": "python",
   "nbconvert_exporter": "python",
   "pygments_lexer": "ipython3",
   "version": "3.9.13"
  }
 },
 "nbformat": 4,
 "nbformat_minor": 5
}
